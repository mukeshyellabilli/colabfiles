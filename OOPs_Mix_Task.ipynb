{
  "nbformat": 4,
  "nbformat_minor": 0,
  "metadata": {
    "colab": {
      "provenance": []
    },
    "kernelspec": {
      "name": "python3",
      "display_name": "Python 3"
    },
    "language_info": {
      "name": "python"
    }
  },
  "cells": [
    {
      "cell_type": "code",
      "execution_count": null,
      "metadata": {
        "id": "oGMyrtwAHFuq"
      },
      "outputs": [],
      "source": [
        "#Define a class Library with a list of books. Write methods to add_book, remove_book, and find_book by title."
      ]
    },
    {
      "cell_type": "code",
      "source": [
        "# Implement a class Teacher with attributes name and subject. Create a method teach that prints the subject being taught. Create a subclass SubstituteTeacher that overrides the teach method."
      ],
      "metadata": {
        "id": "C9fwTkDrHG7o"
      },
      "execution_count": null,
      "outputs": []
    },
    {
      "cell_type": "code",
      "source": [
        "#Define a class Device with attributes brand and model. Create a subclass Smartphone that adds attributes os and memory. Write a method phone_info that prints all details of the smartphone."
      ],
      "metadata": {
        "id": "rQ10T4spHQJa"
      },
      "execution_count": null,
      "outputs": []
    },
    {
      "cell_type": "code",
      "source": [
        "# Create a class Restaurant with attributes name and cuisine_type. Write methods to describe_restaurant and open_restaurant. Create a subclass IceCreamStand that adds an attribute flavors and a method display_flavors"
      ],
      "metadata": {
        "id": "nhllTy7IHQF-"
      },
      "execution_count": null,
      "outputs": []
    },
    {
      "cell_type": "code",
      "source": [
        "# Define a class Inventory with attributes items (a dictionary where keys are item names and values are quantities). Write methods to add_item, remove_item, and check_stock."
      ],
      "metadata": {
        "id": "FxJsU4H9HQA2"
      },
      "execution_count": null,
      "outputs": []
    },
    {
      "cell_type": "code",
      "source": [
        "# Create a class Publisher with attributes name and address. Write a method publish that prints \"Publishing...\". Create a subclass MagazinePublisher that adds an attribute magazines (a list of magazine titles) and overrides the publish method to print the magazine titles."
      ],
      "metadata": {
        "id": "IwxPOTenHP9e"
      },
      "execution_count": null,
      "outputs": []
    },
    {
      "cell_type": "code",
      "source": [
        "# Implement a class Movie with attributes title, director, and duration. Write methods to play and pause the movie. Create a subclass Documentary that adds an attribute topic and a method display_info that prints all details including the topic"
      ],
      "metadata": {
        "id": "UACUWEnUHP5_"
      },
      "execution_count": null,
      "outputs": []
    },
    {
      "cell_type": "code",
      "source": [
        "# Define a class Hotel with attributes name and rooms (a dictionary where keys are room numbers and values are boolean indicating occupancy). Write methods to check_in, check_out, and available_rooms."
      ],
      "metadata": {
        "id": "7cTy55VjHPcu"
      },
      "execution_count": null,
      "outputs": []
    },
    {
      "cell_type": "code",
      "source": [
        "# Create a class Account with attributes account_number and balance. Write methods to deposit and withdraw. Create a subclass BusinessAccount that adds an attribute overdraft_limit and overrides the withdraw method to consider the overdraft limit."
      ],
      "metadata": {
        "id": "S0o3S07lHi4Z"
      },
      "execution_count": null,
      "outputs": []
    },
    {
      "cell_type": "code",
      "source": [
        "# Implement a class Building with attributes address and floors. Write a method describe_building that prints the building details. Create a subclass OfficeBuilding that adds an attribute offices (a dictionary where keys are office numbers and values are company names)."
      ],
      "metadata": {
        "id": "LHQgYuuaHlhV"
      },
      "execution_count": null,
      "outputs": []
    }
  ]
}