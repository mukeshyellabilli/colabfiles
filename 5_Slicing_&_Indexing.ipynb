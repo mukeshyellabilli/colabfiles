{
  "cells": [
    {
      "cell_type": "code",
      "execution_count": 1,
      "metadata": {
        "id": "rU3WlWBTPR4N"
      },
      "outputs": [],
      "source": [
        "import numpy as np"
      ]
    },
    {
      "cell_type": "code",
      "source": [
        "b_arr=np.random.randint(100,1000,size=(11,11))\n",
        "b_arr"
      ],
      "metadata": {
        "colab": {
          "base_uri": "https://localhost:8080/"
        },
        "id": "g_f978kyPXsV",
        "outputId": "177096fc-a97e-4cfb-9570-37432fc98dab"
      },
      "execution_count": 2,
      "outputs": [
        {
          "output_type": "execute_result",
          "data": {
            "text/plain": [
              "array([[718, 868, 582, 652, 703, 260, 164, 633, 462, 632, 714],\n",
              "       [420, 248, 462, 689, 649, 946, 156, 838, 599, 611, 998],\n",
              "       [265, 473, 547, 607, 955, 705, 241, 438, 332, 705, 159],\n",
              "       [692, 657, 636, 596, 521, 596, 901, 212, 138, 136, 365],\n",
              "       [682, 154, 789, 661, 617, 797, 320, 621, 526, 449, 280],\n",
              "       [267, 420, 629, 986, 645, 795, 120, 146, 635, 882, 864],\n",
              "       [773, 529, 842, 115, 172, 871, 960, 866, 901, 579, 647],\n",
              "       [786, 461, 456, 556, 752, 927, 222, 779, 990, 165, 314],\n",
              "       [259, 750, 911, 750, 901, 631, 767, 828, 887, 999, 439],\n",
              "       [366, 371, 787, 797, 128, 329, 317, 837, 994, 272, 447],\n",
              "       [231, 259, 576, 345, 840, 976, 566, 843, 232, 624, 146]])"
            ]
          },
          "metadata": {},
          "execution_count": 2
        }
      ]
    },
    {
      "cell_type": "code",
      "source": [
        "\n",
        "# syntax for indexing----[row_num,col_num]\n",
        "b_arr[10,10]"
      ],
      "metadata": {
        "colab": {
          "base_uri": "https://localhost:8080/"
        },
        "id": "f2TC190WQPaO",
        "outputId": "f64c2e0b-e3f3-4f4e-a79c-25f206da094c"
      },
      "execution_count": 7,
      "outputs": [
        {
          "output_type": "execute_result",
          "data": {
            "text/plain": [
              "146"
            ]
          },
          "metadata": {},
          "execution_count": 7
        }
      ]
    },
    {
      "cell_type": "code",
      "source": [
        "# syntax for slicing---[start_row_num:stop_row_num:step,start_col_num:stop_col_num:step]"
      ],
      "metadata": {
        "id": "i98knv6kRSmH"
      },
      "execution_count": null,
      "outputs": []
    },
    {
      "cell_type": "code",
      "source": [
        "b_arr[5:2:-1,-1::-1]"
      ],
      "metadata": {
        "colab": {
          "base_uri": "https://localhost:8080/"
        },
        "id": "xaAo3-CsRrJK",
        "outputId": "51566c0a-10c4-4a5a-d6eb-9070c8334cdd"
      },
      "execution_count": 26,
      "outputs": [
        {
          "output_type": "execute_result",
          "data": {
            "text/plain": [
              "array([[864, 882, 635, 146, 120, 795, 645, 986, 629, 420, 267],\n",
              "       [280, 449, 526, 621, 320, 797, 617, 661, 789, 154, 682],\n",
              "       [365, 136, 138, 212, 901, 596, 521, 596, 636, 657, 692]])"
            ]
          },
          "metadata": {},
          "execution_count": 26
        }
      ]
    },
    {
      "cell_type": "code",
      "source": [
        "b_arr[0,-4:-8:-1]"
      ],
      "metadata": {
        "colab": {
          "base_uri": "https://localhost:8080/"
        },
        "id": "Lmle1vUePuOD",
        "outputId": "84d440fb-0c0b-4e6e-d3c1-5124626c3d57"
      },
      "execution_count": 5,
      "outputs": [
        {
          "output_type": "execute_result",
          "data": {
            "text/plain": [
              "array([633, 164, 260, 703])"
            ]
          },
          "metadata": {},
          "execution_count": 5
        }
      ]
    },
    {
      "cell_type": "code",
      "execution_count": null,
      "metadata": {
        "id": "Jba1BAVcPR4R"
      },
      "outputs": [],
      "source": [
        "arr = np.array(range(100)).reshape((10,10))"
      ]
    },
    {
      "cell_type": "markdown",
      "metadata": {
        "id": "43AjA8eDPR4R"
      },
      "source": [
        "### select an element by row and column indices"
      ]
    },
    {
      "cell_type": "code",
      "execution_count": null,
      "metadata": {
        "id": "zpKeonbfPR4T",
        "outputId": "cbd6d378-86b5-43d1-b836-fb9c56b2fe26"
      },
      "outputs": [
        {
          "name": "stdout",
          "output_type": "stream",
          "text": [
            "55\n",
            "55\n"
          ]
        }
      ],
      "source": [
        "print(arr[5][5])\n",
        "# or more concisely\n",
        "print(arr[5,5])"
      ]
    },
    {
      "cell_type": "markdown",
      "metadata": {
        "id": "N2MFhbiePR4U"
      },
      "source": [
        "### indexing with slicing"
      ]
    },
    {
      "cell_type": "code",
      "execution_count": null,
      "metadata": {
        "id": "s-6D6p39PR4V",
        "outputId": "6487a171-13bb-4bec-a115-077f78baf659"
      },
      "outputs": [
        {
          "name": "stdout",
          "output_type": "stream",
          "text": [
            "[[14 15]\n",
            " [24 25]]\n"
          ]
        }
      ],
      "source": [
        "print(arr[1:3, 4:6])"
      ]
    },
    {
      "cell_type": "code",
      "execution_count": null,
      "metadata": {
        "id": "BHgHcnO1PR4V",
        "outputId": "4ae4b896-36cd-47a8-d1ce-de038a34da6f"
      },
      "outputs": [
        {
          "name": "stdout",
          "output_type": "stream",
          "text": [
            "[[[0 1]\n",
            "  [2 3]]\n",
            "\n",
            " [[4 5]\n",
            "  [6 7]]]\n"
          ]
        }
      ],
      "source": [
        "# ellipsis slicing: auto-complete the dimensions\n",
        "arr = np.array(range(16)).reshape(2,2,2,2)\n",
        "# equivalent to arr[0,:,:,:]\n",
        "print(arr[0, ...])"
      ]
    },
    {
      "cell_type": "markdown",
      "metadata": {
        "id": "98K8S4-tPR4W"
      },
      "source": [
        "### assign a scalar to a slice by broadcasting"
      ]
    },
    {
      "cell_type": "code",
      "source": [
        "b_arr"
      ],
      "metadata": {
        "colab": {
          "base_uri": "https://localhost:8080/"
        },
        "id": "0ovYxJhUY_DO",
        "outputId": "22d51ad9-245b-4276-818a-cf71a7a55158"
      },
      "execution_count": 28,
      "outputs": [
        {
          "output_type": "execute_result",
          "data": {
            "text/plain": [
              "array([[718, 868, 582, 652, 703, 260, 164, 633, 462, 632, 714],\n",
              "       [420, 248, 462, 689, 649, 946, 156, 838, 599, 611, 998],\n",
              "       [265, 473, 547, 607, 955, 705, 241, 438, 332, 705, 159],\n",
              "       [692, 657, 636, 596, 521, 596, 901, 212, 138, 136, 365],\n",
              "       [682, 154, 789, 661, 617, 797, 320, 621, 526, 449, 280],\n",
              "       [267, 420, 629, 986, 645, 795, 120, 146, 635, 882, 864],\n",
              "       [773, 529, 842, 115, 172, 871, 960, 866, 901, 579, 647],\n",
              "       [786, 461, 456, 556, 752, 927, 222, 779, 990, 165, 314],\n",
              "       [259, 750, 911, 750, 901, 631, 767, 828, 887, 999, 439],\n",
              "       [366, 371, 787, 797, 128, 329, 317, 837, 994, 272, 447],\n",
              "       [231, 259, 576, 345, 840, 976, 566, 843, 232, 624, 146]])"
            ]
          },
          "metadata": {},
          "execution_count": 28
        }
      ]
    },
    {
      "cell_type": "code",
      "source": [
        "b__arr=b_arr[:1,5:2:-1]=200\n",
        "b_arr"
      ],
      "metadata": {
        "colab": {
          "base_uri": "https://localhost:8080/"
        },
        "id": "zplp4uowZcz7",
        "outputId": "a80baeb8-c712-47f7-ec79-2ceaaf683782"
      },
      "execution_count": 31,
      "outputs": [
        {
          "output_type": "execute_result",
          "data": {
            "text/plain": [
              "array([[718, 868, 582, 200, 200, 200, 164, 633, 462, 632, 714],\n",
              "       [420, 248, 462, 689, 649, 946, 156, 838, 599, 611, 998],\n",
              "       [265, 473, 547, 607, 955, 705, 241, 438, 332, 705, 159],\n",
              "       [692, 657, 636, 596, 521, 596, 901, 212, 138, 136, 365],\n",
              "       [682, 154, 789, 661, 617, 797, 320, 621, 526, 449, 280],\n",
              "       [267, 420, 629, 986, 645, 795, 120, 146, 635, 882, 864],\n",
              "       [773, 529, 842, 115, 172, 871, 960, 866, 901, 579, 647],\n",
              "       [786, 461, 456, 556, 752, 927, 222, 779, 990, 165, 314],\n",
              "       [259, 750, 911, 750, 901, 631, 767, 828, 887, 999, 439],\n",
              "       [366, 371, 787, 797, 128, 329, 317, 837, 994, 272, 447],\n",
              "       [231, 259, 576, 345, 840, 976, 566, 843, 232, 624, 146]])"
            ]
          },
          "metadata": {},
          "execution_count": 31
        }
      ]
    },
    {
      "cell_type": "code",
      "execution_count": null,
      "metadata": {
        "id": "VK6JT-HGPR4X",
        "outputId": "04e155aa-53b5-40df-bb2a-fbeb3a3ac64d"
      },
      "outputs": [
        {
          "name": "stdout",
          "output_type": "stream",
          "text": [
            "[[[[  0   1]\n",
            "   [  2   3]]\n",
            "\n",
            "  [[  4   5]\n",
            "   [  6   7]]]\n",
            "\n",
            "\n",
            " [[[100 100]\n",
            "   [100 100]]\n",
            "\n",
            "  [[100 100]\n",
            "   [100 100]]]]\n"
          ]
        }
      ],
      "source": [
        "b__arr=b_arr[:1,5:2:-1]=200\n",
        "arr[1:3,:] = 100    # or simply arr[1:3]\n",
        "arr[:,8:] = 100\n",
        "print(arr)"
      ]
    },
    {
      "cell_type": "markdown",
      "metadata": {
        "id": "xk71vJziPR4X"
      },
      "source": [
        "### boolean indexing"
      ]
    },
    {
      "cell_type": "code",
      "execution_count": 32,
      "metadata": {
        "colab": {
          "base_uri": "https://localhost:8080/"
        },
        "id": "4wdQ4ScEPR4Y",
        "outputId": "4a6cb5fa-5582-491a-929e-046229216789"
      },
      "outputs": [
        {
          "output_type": "stream",
          "name": "stdout",
          "text": [
            "[[ 0  1  2  3  4]\n",
            " [ 5  6  7  8  9]\n",
            " [15 16 17 18 19]]\n"
          ]
        }
      ],
      "source": [
        "arr1 = np.arange(25).reshape((5,5))\n",
        "bools = np.array([True, True, False, True, False])\n",
        "print(arr1[bools])"
      ]
    },
    {
      "cell_type": "code",
      "execution_count": 33,
      "metadata": {
        "colab": {
          "base_uri": "https://localhost:8080/"
        },
        "id": "IcIG6GN9PR4Y",
        "outputId": "9a8d1790-d6b4-4356-f914-3ef0c6f2c636"
      },
      "outputs": [
        {
          "output_type": "stream",
          "name": "stdout",
          "text": [
            "[[10 11 12 13 14]\n",
            " [20 21 22 23 24]]\n"
          ]
        }
      ],
      "source": [
        "# negate the condition\n",
        "print(arr1[~bools])"
      ]
    },
    {
      "cell_type": "code",
      "source": [
        "arr1"
      ],
      "metadata": {
        "colab": {
          "base_uri": "https://localhost:8080/"
        },
        "id": "KBspNK00ct5A",
        "outputId": "a63a19a7-d5a7-4e9e-c9b4-73b7789948da"
      },
      "execution_count": 35,
      "outputs": [
        {
          "output_type": "execute_result",
          "data": {
            "text/plain": [
              "array([[ 0,  1,  2,  3,  4],\n",
              "       [ 5,  6,  7,  8,  9],\n",
              "       [10, 11, 12, 13, 14],\n",
              "       [15, 16, 17, 18, 19],\n",
              "       [20, 21, 22, 23, 24]])"
            ]
          },
          "metadata": {},
          "execution_count": 35
        }
      ]
    },
    {
      "cell_type": "code",
      "execution_count": 37,
      "metadata": {
        "colab": {
          "base_uri": "https://localhost:8080/"
        },
        "id": "m6GSrkgWPR4Z",
        "outputId": "f106b1bc-9be2-4358-c280-1a5c6da5f0c2"
      },
      "outputs": [
        {
          "output_type": "stream",
          "name": "stdout",
          "text": [
            "[array([ True, False, False, False, False])]\n"
          ]
        }
      ],
      "source": [
        "arr2 = np.array([1,2,3,4,5])\n",
        "# multiple conditions\n",
        "print([(arr2<2) ])"
      ]
    },
    {
      "cell_type": "markdown",
      "metadata": {
        "id": "nXFQMHIrPR4Z"
      },
      "source": [
        "### fancy indexing"
      ]
    },
    {
      "cell_type": "code",
      "execution_count": null,
      "metadata": {
        "id": "UuWn_0D9PR4Z"
      },
      "outputs": [],
      "source": [
        "arr = np.random.rand(10,10)"
      ]
    },
    {
      "cell_type": "code",
      "execution_count": null,
      "metadata": {
        "id": "-1H8pimLPR4a",
        "outputId": "d929f83b-013d-4825-d7a4-4c23ead2505a"
      },
      "outputs": [
        {
          "name": "stdout",
          "output_type": "stream",
          "text": [
            "[0.29404208 0.06137223 0.59811053]\n"
          ]
        }
      ],
      "source": [
        "# select arr[3,3], arr[1,2], arr[2,1]\n",
        "print(arr[[3,1,2], [3,2,1]])"
      ]
    },
    {
      "cell_type": "code",
      "execution_count": null,
      "metadata": {
        "id": "PrrsrxquPR4a",
        "outputId": "a000f664-736f-4860-b7e9-637f2b098a2d"
      },
      "outputs": [
        {
          "name": "stdout",
          "output_type": "stream",
          "text": [
            "[[0.09566854 0.2190723  0.6754328 ]\n",
            " [0.28997889 0.13675444 0.07718654]\n",
            " [0.15862308 0.45510309 0.94789792]]\n"
          ]
        }
      ],
      "source": [
        "# select rows 3,1,2 and columns 6,4,8\n",
        "print(arr[[3,1,2]][:, [6,4,8]])"
      ]
    },
    {
      "cell_type": "markdown",
      "metadata": {
        "id": "JyUMaTWvPR4a"
      },
      "source": [
        "### dimension inference"
      ]
    },
    {
      "cell_type": "code",
      "execution_count": null,
      "metadata": {
        "id": "ZsqiFcbIPR4a",
        "outputId": "3a1f2557-805c-467d-fbd1-3ff3029358b0"
      },
      "outputs": [
        {
          "name": "stdout",
          "output_type": "stream",
          "text": [
            "(4, 4)\n"
          ]
        }
      ],
      "source": [
        "# dimension inference using any negative number (usually -1)\n",
        "arr = np.array(range(16)).reshape((4,-1))\n",
        "print(arr.shape)"
      ]
    },
    {
      "cell_type": "markdown",
      "metadata": {
        "id": "DZzgp56cPR4b"
      },
      "source": [
        "### find elements/indices by conditions"
      ]
    },
    {
      "cell_type": "code",
      "execution_count": 52,
      "metadata": {
        "colab": {
          "base_uri": "https://localhost:8080/"
        },
        "id": "AbiSBQZvPR4b",
        "outputId": "e1bcd9df-b380-4cb7-9234-609cc0f19884"
      },
      "outputs": [
        {
          "output_type": "stream",
          "name": "stdout",
          "text": [
            "[[ 0  4  8 12]\n",
            " [ 1  5  9 13]\n",
            " [ 2  6 10 14]\n",
            " [ 3  7 11 15]]\n"
          ]
        }
      ],
      "source": [
        "# 2D shape\n",
        "arr = np.arange(16).reshape(4,4)\n",
        "print(arr.T)  # transpose of a matrix"
      ]
    },
    {
      "cell_type": "code",
      "source": [
        "arr = np.arange(16).reshape(-1)\n",
        "arr"
      ],
      "metadata": {
        "colab": {
          "base_uri": "https://localhost:8080/"
        },
        "id": "tosZvxlZpS6w",
        "outputId": "78e2b499-6473-46b9-d61a-56895ac923d6"
      },
      "execution_count": 50,
      "outputs": [
        {
          "output_type": "execute_result",
          "data": {
            "text/plain": [
              "array([ 0,  1,  2,  3,  4,  5,  6,  7,  8,  9, 10, 11, 12, 13, 14, 15])"
            ]
          },
          "metadata": {},
          "execution_count": 50
        }
      ]
    },
    {
      "cell_type": "code",
      "source": [
        "# 1D\n",
        "arr = np.arange(16).reshape(16,1)\n",
        "arr"
      ],
      "metadata": {
        "colab": {
          "base_uri": "https://localhost:8080/"
        },
        "id": "Rba7Sq4zoqSo",
        "outputId": "95bf19f9-28b5-40c0-a170-7aaee8920e18"
      },
      "execution_count": 47,
      "outputs": [
        {
          "output_type": "execute_result",
          "data": {
            "text/plain": [
              "array([[ 0],\n",
              "       [ 1],\n",
              "       [ 2],\n",
              "       [ 3],\n",
              "       [ 4],\n",
              "       [ 5],\n",
              "       [ 6],\n",
              "       [ 7],\n",
              "       [ 8],\n",
              "       [ 9],\n",
              "       [10],\n",
              "       [11],\n",
              "       [12],\n",
              "       [13],\n",
              "       [14],\n",
              "       [15]])"
            ]
          },
          "metadata": {},
          "execution_count": 47
        }
      ]
    },
    {
      "cell_type": "code",
      "execution_count": null,
      "metadata": {
        "id": "BRz9tW94PR4b",
        "outputId": "cfe4b9d1-96e3-45d4-e2ad-18138622151c"
      },
      "outputs": [
        {
          "name": "stdout",
          "output_type": "stream",
          "text": [
            "[ 6  7  8  9 10 11 12 13 14 15]\n"
          ]
        }
      ],
      "source": [
        "# find the elements greater than 5 and return a flattened array\n",
        "print(arr[arr>5])    # or arr[np.where(arr>5)]"
      ]
    },
    {
      "cell_type": "code",
      "execution_count": null,
      "metadata": {
        "id": "PkLNuB_tPR4b",
        "outputId": "dfe370d9-041b-497c-f48a-f2ea52b9ccee"
      },
      "outputs": [
        {
          "name": "stdout",
          "output_type": "stream",
          "text": [
            "[[10 10 10 10]\n",
            " [10 10 -1 -1]\n",
            " [-1 -1 -1 -1]\n",
            " [-1 -1 -1 -1]]\n"
          ]
        }
      ],
      "source": [
        "# return values based on conditions\n",
        "# np.where(condition, true_return, false_return)\n",
        "print(np.where(arr>5, -1, 10))"
      ]
    },
    {
      "cell_type": "code",
      "execution_count": null,
      "metadata": {
        "id": "tKRj7HUDPR4b",
        "outputId": "4f7f01ae-5ef4-4719-c300-8562d01a06ce"
      },
      "outputs": [
        {
          "name": "stdout",
          "output_type": "stream",
          "text": [
            "[[1 2]\n",
            " [1 3]\n",
            " [2 0]\n",
            " [2 1]\n",
            " [2 2]\n",
            " [2 3]\n",
            " [3 0]\n",
            " [3 1]\n",
            " [3 2]\n",
            " [3 3]]\n"
          ]
        }
      ],
      "source": [
        "# find the indices of the elements on conditions\n",
        "print(np.argwhere(arr>5))"
      ]
    }
  ],
  "metadata": {
    "kernelspec": {
      "display_name": "Python 3",
      "language": "python",
      "name": "python3"
    },
    "language_info": {
      "codemirror_mode": {
        "name": "ipython",
        "version": 3
      },
      "file_extension": ".py",
      "mimetype": "text/x-python",
      "name": "python",
      "nbconvert_exporter": "python",
      "pygments_lexer": "ipython3",
      "version": "3.6.6"
    },
    "colab": {
      "provenance": []
    }
  },
  "nbformat": 4,
  "nbformat_minor": 0
}